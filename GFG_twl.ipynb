{
  "nbformat": 4,
  "nbformat_minor": 0,
  "metadata": {
    "colab": {
      "name": "GFG_twl.ipynb",
      "provenance": [],
      "collapsed_sections": [],
      "authorship_tag": "ABX9TyP7gx3Z9cWjW7OepTI/KRwj",
      "include_colab_link": true
    },
    "kernelspec": {
      "name": "python3",
      "display_name": "Python 3"
    },
    "language_info": {
      "name": "python"
    }
  },
  "cells": [
    {
      "cell_type": "markdown",
      "metadata": {
        "id": "view-in-github",
        "colab_type": "text"
      },
      "source": [
        "<a href=\"https://colab.research.google.com/github/lokkyX3/GFG/blob/main/GFG_twl.ipynb\" target=\"_parent\"><img src=\"https://colab.research.google.com/assets/colab-badge.svg\" alt=\"Open In Colab\"/></a>"
      ]
    },
    {
      "cell_type": "code",
      "metadata": {
        "id": "vFVkr_IB_WK0"
      },
      "source": [
        "import pandas as pd\n",
        "import matplotlib.pyplot as plt\n",
        "import seaborn as sns\n",
        "from google.colab import drive\n",
        "\n",
        "plt.style.use('seaborn')"
      ],
      "execution_count": 1,
      "outputs": []
    },
    {
      "cell_type": "code",
      "metadata": {
        "id": "7uvu0WlB_g1I"
      },
      "source": [
        "drive.mount('/content/drive')"
      ],
      "execution_count": null,
      "outputs": []
    },
    {
      "cell_type": "code",
      "metadata": {
        "id": "M_lsa1bDGQA1"
      },
      "source": [
        "#Conversion Rate\n",
        "def cr(orders, visits):\n",
        "  return orders/visits*100\n",
        "\n",
        "#Average Basket Size\n",
        "def abs(revenue, orders):\n",
        "  return revenue/orders\n",
        "\n",
        "#Cost to Income Ratio\n",
        "def cir(spend, revenue):\n",
        "  return spend/revenue"
      ],
      "execution_count": 3,
      "outputs": []
    },
    {
      "cell_type": "code",
      "metadata": {
        "id": "VM1hcGIxAPfF"
      },
      "source": [
        "df = pd.read_csv('/content/drive/My Drive/Colab Notebooks/GFG/GFG_data.csv')"
      ],
      "execution_count": 4,
      "outputs": []
    },
    {
      "cell_type": "code",
      "metadata": {
        "colab": {
          "base_uri": "https://localhost:8080/"
        },
        "id": "xy1p5e-gF4cS",
        "outputId": "545fc06f-f650-4f8b-fc14-5f4157b33c5f"
      },
      "source": [
        "df.info()"
      ],
      "execution_count": 5,
      "outputs": [
        {
          "output_type": "stream",
          "text": [
            "<class 'pandas.core.frame.DataFrame'>\n",
            "RangeIndex: 18 entries, 0 to 17\n",
            "Data columns (total 7 columns):\n",
            " #   Column        Non-Null Count  Dtype \n",
            "---  ------        --------------  ----- \n",
            " 0   Channel_name  18 non-null     object\n",
            " 1   Paid/Free     18 non-null     object\n",
            " 2   Spend_$       18 non-null     int64 \n",
            " 3   Visits        18 non-null     int64 \n",
            " 4   Orders        18 non-null     int64 \n",
            " 5   Revenue_$     18 non-null     int64 \n",
            " 6   Week          18 non-null     int64 \n",
            "dtypes: int64(5), object(2)\n",
            "memory usage: 1.1+ KB\n"
          ],
          "name": "stdout"
        }
      ]
    },
    {
      "cell_type": "code",
      "metadata": {
        "id": "wvTEBZ0VEvlR"
      },
      "source": [
        "df['Week'] = df['Week'].astype('category')"
      ],
      "execution_count": 6,
      "outputs": []
    },
    {
      "cell_type": "markdown",
      "metadata": {
        "id": "j11Q1mgEERJp"
      },
      "source": [
        "# What Happened?\n",
        "Let take a quick look into overall figures for each channel type. The channel are categorized into:\n",
        "\n",
        "\n",
        "*   App\n",
        "*   Web\n",
        "*   Newsletter\n",
        "*   PR\n",
        "\n"
      ]
    },
    {
      "cell_type": "code",
      "metadata": {
        "id": "d0KLKsZRLrjk"
      },
      "source": [
        "df.loc[df['Channel_name'].str.contains('App'),'channel_type'] = 'App'\n",
        "df.loc[df['Channel_name'].str.contains('Web'),'channel_type'] = 'Web'\n",
        "df.loc[df['Channel_name'].str.contains('Newsletter'),'channel_type'] = 'Newsletter'\n",
        "df.loc[df['Channel_name'].str.contains('PR'),'channel_type'] = 'PR'"
      ],
      "execution_count": 7,
      "outputs": []
    },
    {
      "cell_type": "code",
      "metadata": {
        "id": "4t6Ct7_JwDMv"
      },
      "source": [
        "overall_channel = df.groupby(by=['channel_type']).sum().reset_index()"
      ],
      "execution_count": 8,
      "outputs": []
    },
    {
      "cell_type": "code",
      "metadata": {
        "id": "3BFOqxDIJEXy"
      },
      "source": [
        "overall_channel['cr'] = cr(overall_channel['Orders'],overall_channel['Visits'])\n",
        "overall_channel['abs'] = abs(overall_channel['Revenue_$'],overall_channel['Orders'])\n",
        "overall_channel['cir'] = cir(overall_channel['Spend_$'],overall_channel['Revenue_$'])"
      ],
      "execution_count": 9,
      "outputs": []
    },
    {
      "cell_type": "code",
      "metadata": {
        "colab": {
          "base_uri": "https://localhost:8080/",
          "height": 570
        },
        "id": "LM3RdWm05MNA",
        "cellView": "form",
        "outputId": "4b317e56-f7f3-4b85-e69a-73558e98343b"
      },
      "source": [
        "#@title\n",
        "fig, axes = plt.subplots(2, 2, figsize=(18, 10))\n",
        "#Spend\n",
        "sns.barplot(ax=axes[0,0],x='channel_type',y='Spend_$',data=overall_channel.sort_values('Spend_$',ascending=False))\n",
        "axes[0,0].set_title('Amount Spent ($)')\n",
        "axes[0,0].set(xlabel=None)\n",
        "\n",
        "#Revenue\n",
        "sns.barplot(ax=axes[0,1],x='channel_type',y='Revenue_$',data=overall_channel.sort_values('Revenue_$',ascending=False))\n",
        "axes[0,1].set_title('Revenue ($)')\n",
        "axes[0,1].set(xlabel=None)\n",
        "\n",
        "#Visits\n",
        "sns.barplot(ax=axes[1,0],x='channel_type',y='Visits',data=overall_channel.sort_values('Visits',ascending=False))\n",
        "axes[1,0].set_title('Number of visits')\n",
        "axes[1,0].set(xlabel=None)\n",
        "\n",
        "#Orders\n",
        "sns.barplot(ax=axes[1,1],x='channel_type',y='Orders',data=overall_channel.sort_values('Orders',ascending=False))\n",
        "axes[1,1].set_title('Number of orders')\n",
        "axes[1,1].set(xlabel=None)"
      ],
      "execution_count": null,
      "outputs": [
        {
          "output_type": "execute_result",
          "data": {
            "text/plain": [
              "[Text(0.5, 0, '')]"
            ]
          },
          "metadata": {
            "tags": []
          },
          "execution_count": 86
        },
        {
          "output_type": "display_data",
          "data": {
            "image/png": "[encoded data removed]",
            "text/plain": [
              "<Figure size 1296x720 with 4 Axes>"
            ]
          },
          "metadata": {
            "tags": []
          }
        }
      ]
    },
    {
      "cell_type": "markdown",
      "metadata": {
        "id": "BjsYUBAxE78X"
      },
      "source": [
        "From a quick glance, most effforts and resources were put into Apps followed by Web, Newsletter and PR. The revenue and orders of the channel seems in tally to that as well. The numbers of visitors are dominated by App and with PR as the lowest among the four. "
      ]
    },
    {
      "cell_type": "markdown",
      "metadata": {
        "id": "dFKC2buPQs8b"
      },
      "source": [
        "#Week 43 vs Week 42\n",
        "\n",
        "Percentage difference between Week 43 and Week 42\n",
        "\n"
      ]
    },
    {
      "cell_type": "code",
      "metadata": {
        "id": "WqcD94vuMXQA"
      },
      "source": [
        "df_42 = df[df['Week']==42].groupby(by=['channel_type']).sum()\n",
        "df_43 = df[df['Week']==43].groupby(by=['channel_type']).sum()"
      ],
      "execution_count": null,
      "outputs": []
    },
    {
      "cell_type": "code",
      "metadata": {
        "colab": {
          "base_uri": "https://localhost:8080/",
          "height": 195
        },
        "id": "nWBggvMDOdFh",
        "cellView": "code",
        "outputId": "277937d3-9ead-4a61-abc3-feb986481bae"
      },
      "source": [
        "df_diff = df_43-df_42\n",
        "df_diff.reset_index()\n",
        "df_p = df_diff/(df_42)*100\n",
        "df_p"
      ],
      "execution_count": null,
      "outputs": [
        {
          "output_type": "execute_result",
          "data": {
            "text/html": [
              "<div>\n",
              "<style scoped>\n",
              "    .dataframe tbody tr th:only-of-type {\n",
              "        vertical-align: middle;\n",
              "    }\n",
              "\n",
              "    .dataframe tbody tr th {\n",
              "        vertical-align: top;\n",
              "    }\n",
              "\n",
              "    .dataframe thead th {\n",
              "        text-align: right;\n",
              "    }\n",
              "</style>\n",
              "<table border=\"1\" class=\"dataframe\">\n",
              "  <thead>\n",
              "    <tr style=\"text-align: right;\">\n",
              "      <th></th>\n",
              "      <th>Spend_$</th>\n",
              "      <th>Visits</th>\n",
              "      <th>Orders</th>\n",
              "      <th>Revenue_$</th>\n",
              "    </tr>\n",
              "    <tr>\n",
              "      <th>channel_type</th>\n",
              "      <th></th>\n",
              "      <th></th>\n",
              "      <th></th>\n",
              "      <th></th>\n",
              "    </tr>\n",
              "  </thead>\n",
              "  <tbody>\n",
              "    <tr>\n",
              "      <th>App</th>\n",
              "      <td>-57.114830</td>\n",
              "      <td>-15.652174</td>\n",
              "      <td>10.392157</td>\n",
              "      <td>-6.372273</td>\n",
              "    </tr>\n",
              "    <tr>\n",
              "      <th>Newsletter</th>\n",
              "      <td>-10.638298</td>\n",
              "      <td>20.322581</td>\n",
              "      <td>24.193548</td>\n",
              "      <td>14.283248</td>\n",
              "    </tr>\n",
              "    <tr>\n",
              "      <th>PR</th>\n",
              "      <td>-27.631579</td>\n",
              "      <td>0.000000</td>\n",
              "      <td>-10.000000</td>\n",
              "      <td>-20.000000</td>\n",
              "    </tr>\n",
              "    <tr>\n",
              "      <th>Web</th>\n",
              "      <td>18.668831</td>\n",
              "      <td>-22.105263</td>\n",
              "      <td>-23.180873</td>\n",
              "      <td>-12.546858</td>\n",
              "    </tr>\n",
              "  </tbody>\n",
              "</table>\n",
              "</div>"
            ],
            "text/plain": [
              "                Spend_$     Visits     Orders  Revenue_$\n",
              "channel_type                                            \n",
              "App          -57.114830 -15.652174  10.392157  -6.372273\n",
              "Newsletter   -10.638298  20.322581  24.193548  14.283248\n",
              "PR           -27.631579   0.000000 -10.000000 -20.000000\n",
              "Web           18.668831 -22.105263 -23.180873 -12.546858"
            ]
          },
          "metadata": {
            "tags": []
          },
          "execution_count": 128
        }
      ]
    },
    {
      "cell_type": "code",
      "metadata": {
        "colab": {
          "base_uri": "https://localhost:8080/",
          "height": 297
        },
        "cellView": "form",
        "id": "fUVBfyi5-L_1",
        "outputId": "03a33d60-d646-491e-d1af-306fc987cd7c"
      },
      "source": [
        "#@title\n",
        "fig, axes = plt.subplots(1,4, figsize=(15, 4),sharex = False)\n",
        "\n",
        "#Spend\n",
        "sns.barplot(ax=axes[0],x='channel_type',y='Spend_$',data=df_p.sort_values('Spend_$',ascending=False).reset_index(),palette='RdYlGn_r')\n",
        "axes[0].set_title('Amount Spent ($)')\n",
        "axes[0].set(xlabel=None,ylabel=None)\n",
        "\n",
        "#Spend\n",
        "sns.barplot(ax=axes[1],x='channel_type',y='Visits',data=df_p.sort_values('Visits',ascending=False).reset_index(),palette='RdYlGn_r')\n",
        "axes[1].set_title('Visits')\n",
        "axes[1].set(xlabel=None,ylabel=None)\n",
        "\n",
        "#Spend\n",
        "sns.barplot(ax=axes[2],x='channel_type',y='Orders',data=df_p.sort_values('Orders',ascending=False).reset_index(),palette='RdYlGn_r')\n",
        "axes[2].set_title('Orders')\n",
        "axes[2].set(xlabel=None,ylabel=None)\n",
        "\n",
        "#Spend\n",
        "sns.barplot(ax=axes[3],x='channel_type',y='Revenue_$',data=df_p.sort_values('Revenue_$',ascending=False).reset_index(),palette='RdYlGn_r')\n",
        "axes[3].set_title('Revenue ($)')\n",
        "axes[3].set(xlabel=None,ylabel=None)"
      ],
      "execution_count": null,
      "outputs": [
        {
          "output_type": "execute_result",
          "data": {
            "text/plain": [
              "[Text(0, 0.5, ''), Text(0.5, 0, '')]"
            ]
          },
          "metadata": {
            "tags": []
          },
          "execution_count": 123
        },
        {
          "output_type": "display_data",
          "data": {
            "image/png": "[encoded data removed]",
            "text/plain": [
              "<Figure size 1080x288 with 4 Axes>"
            ]
          },
          "metadata": {
            "tags": []
          }
        }
      ]
    },
    {
      "cell_type": "markdown",
      "metadata": {
        "id": "6ZGpG7D_zUC4"
      },
      "source": [
        "App revenue shows a decrease (-6.37%) in revenue and visits (-15.65%) despite that the orders increases (10.39%).\n",
        "However, Newsletter channel show an noticable increase in revenue,  orders and visits eventhough the spending have been reduced.Also note that, Web channel had a plunge in its visits, orders and revenue eventhough spendings were increased (18.67%) compared to previous week."
      ]
    },
    {
      "cell_type": "markdown",
      "metadata": {
        "id": "Lz9HSfn-qm4C"
      },
      "source": [
        "# Overall Performance"
      ]
    },
    {
      "cell_type": "code",
      "metadata": {
        "id": "M134j6dEdxZ1",
        "colab": {
          "base_uri": "https://localhost:8080/",
          "height": 166
        },
        "outputId": "ab2efd05-620b-4cc5-cbb6-f242cc917cd9"
      },
      "source": [
        "overall_channel[['channel_type','cr','abs','cir']]"
      ],
      "execution_count": 10,
      "outputs": [
        {
          "output_type": "execute_result",
          "data": {
            "text/html": [
              "<div>\n",
              "<style scoped>\n",
              "    .dataframe tbody tr th:only-of-type {\n",
              "        vertical-align: middle;\n",
              "    }\n",
              "\n",
              "    .dataframe tbody tr th {\n",
              "        vertical-align: top;\n",
              "    }\n",
              "\n",
              "    .dataframe thead th {\n",
              "        text-align: right;\n",
              "    }\n",
              "</style>\n",
              "<table border=\"1\" class=\"dataframe\">\n",
              "  <thead>\n",
              "    <tr style=\"text-align: right;\">\n",
              "      <th></th>\n",
              "      <th>channel_type</th>\n",
              "      <th>cr</th>\n",
              "      <th>abs</th>\n",
              "      <th>cir</th>\n",
              "    </tr>\n",
              "  </thead>\n",
              "  <tbody>\n",
              "    <tr>\n",
              "      <th>0</th>\n",
              "      <td>App</td>\n",
              "      <td>1.265330</td>\n",
              "      <td>48.056850</td>\n",
              "      <td>0.009604</td>\n",
              "    </tr>\n",
              "    <tr>\n",
              "      <th>1</th>\n",
              "      <td>Newsletter</td>\n",
              "      <td>1.119327</td>\n",
              "      <td>35.725180</td>\n",
              "      <td>0.001303</td>\n",
              "    </tr>\n",
              "    <tr>\n",
              "      <th>2</th>\n",
              "      <td>PR</td>\n",
              "      <td>0.950000</td>\n",
              "      <td>37.515789</td>\n",
              "      <td>0.007351</td>\n",
              "    </tr>\n",
              "    <tr>\n",
              "      <th>3</th>\n",
              "      <td>Web</td>\n",
              "      <td>1.258136</td>\n",
              "      <td>37.511346</td>\n",
              "      <td>0.025333</td>\n",
              "    </tr>\n",
              "  </tbody>\n",
              "</table>\n",
              "</div>"
            ],
            "text/plain": [
              "  channel_type        cr        abs       cir\n",
              "0          App  1.265330  48.056850  0.009604\n",
              "1   Newsletter  1.119327  35.725180  0.001303\n",
              "2           PR  0.950000  37.515789  0.007351\n",
              "3          Web  1.258136  37.511346  0.025333"
            ]
          },
          "metadata": {
            "tags": []
          },
          "execution_count": 10
        }
      ]
    },
    {
      "cell_type": "code",
      "metadata": {
        "colab": {
          "base_uri": "https://localhost:8080/",
          "height": 393
        },
        "id": "4Y7muc0NgQv1",
        "outputId": "3fc8cb25-2cc1-4f74-ebd8-cbffe0ffb038"
      },
      "source": [
        "sns.barplot(x='channel_type',y='cir',data=overall_channel.sort_values('cir',ascending=False)).set_title('Cost to Income Ratio ($)')"
      ],
      "execution_count": null,
      "outputs": [
        {
          "output_type": "execute_result",
          "data": {
            "text/plain": [
              "Text(0.5, 1.0, 'Cost to Income Ratio ($)')"
            ]
          },
          "metadata": {
            "tags": []
          },
          "execution_count": 124
        },
        {
          "output_type": "display_data",
          "data": {
            "image/png": "[encoded data removed]",
            "text/plain": [
              "<Figure size 576x396 with 1 Axes>"
            ]
          },
          "metadata": {
            "tags": []
          }
        }
      ]
    },
    {
      "cell_type": "code",
      "metadata": {
        "colab": {
          "base_uri": "https://localhost:8080/",
          "height": 393
        },
        "id": "piEwJTEPgCEi",
        "outputId": "6c5ffd93-54f3-45f3-b306-7ab911de9f8f"
      },
      "source": [
        "sns.barplot(x='channel_type',y='abs',data=overall_channel.sort_values('abs',ascending=False)).set_title('Average Basket Size ($)')"
      ],
      "execution_count": null,
      "outputs": [
        {
          "output_type": "execute_result",
          "data": {
            "text/plain": [
              "Text(0.5, 1.0, 'Average Basket Size ($)')"
            ]
          },
          "metadata": {
            "tags": []
          },
          "execution_count": 125
        },
        {
          "output_type": "display_data",
          "data": {
            "image/png": "[encoded data removed]",
            "text/plain": [
              "<Figure size 576x396 with 1 Axes>"
            ]
          },
          "metadata": {
            "tags": []
          }
        }
      ]
    },
    {
      "cell_type": "code",
      "metadata": {
        "colab": {
          "base_uri": "https://localhost:8080/",
          "height": 311
        },
        "id": "PH3NX0CVc9Z-",
        "outputId": "354d5644-7a7e-4f38-ab94-6819e2e88237"
      },
      "source": [
        "sns.barplot(x='channel_type',y='cr',data=overall_channel.sort_values('cr',ascending=False)).set_title('Conversion Rate (%)')"
      ],
      "execution_count": null,
      "outputs": [
        {
          "output_type": "execute_result",
          "data": {
            "text/plain": [
              "Text(0.5, 1.0, 'Conversion Rate (%)')"
            ]
          },
          "metadata": {
            "tags": []
          },
          "execution_count": 180
        },
        {
          "output_type": "display_data",
          "data": {
            "image/png": "[encoded data removed]",
            "text/plain": [
              "<Figure size 576x288 with 1 Axes>"
            ]
          },
          "metadata": {
            "tags": []
          }
        }
      ]
    },
    {
      "cell_type": "markdown",
      "metadata": {
        "id": "jT1KEELg4VvB"
      },
      "source": [
        "Lets take a look at the performance metrics of these channels. \n",
        "\n",
        "**Conversion rate (CR)**\n",
        "> App has the highest CR leading with a 1.27% while PR has the lowest CR of 0.95%. Web and Newsletter are placed at 2nd and 3rd repectively.\n",
        "\n",
        "**Average Basket Size (ABS)**\n",
        "> Again, App top the ranking with ABS of 48.06. Both PR and Web performed closely with ABS of 37.52 and 37.51 respectively.\n",
        "\n",
        "**Cost to Income Ration (CIR)**\n",
        "> In terms of CIR, Newsletter has the lowest CIR followed by PR, App and Web.\n",
        "\n",
        "**Which channel performed better these 2 week?**\n",
        "> By looking at CR and ABS as criteria, App without a doubt would be the best performing channel. Eventhough the CIR of App are the 3rd highest, it is offset by having highest amount of visitor and a high conversion rate.\n",
        "The second best performer would be Newsletter although it does not have the highest CR and ABS. But it has the lowest CIR among the channel would offset the small difference of performance in terms of CR and ABS when compared to Web and PR.\n",
        "\n",
        "\n"
      ]
    }
  ]
}